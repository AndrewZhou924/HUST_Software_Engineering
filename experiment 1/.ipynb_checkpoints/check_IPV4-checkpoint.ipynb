{
 "cells": [
  {
   "cell_type": "code",
   "execution_count": 1,
   "metadata": {},
   "outputs": [],
   "source": [
    "import re"
   ]
  },
  {
   "cell_type": "code",
   "execution_count": 2,
   "metadata": {},
   "outputs": [],
   "source": [
    "'''\n",
    "IPv4的ip地址格式：（1~255）.（0~255）.（0~255）.（0~255）\n",
    "'''\n",
    "\n",
    "def ipv4_addr_check(ipAddr):\n",
    "    p = re.compile('^((25[0-5]|2[0-4]\\d|[01]?\\d\\d?)\\.){3}(25[0-5]|2[0-4]\\d|[01]?\\d\\d?)$')\n",
    "    if p.match(ipAddr):\n",
    "        return True\n",
    "    else:\n",
    "        return False"
   ]
  },
  {
   "cell_type": "code",
   "execution_count": 8,
   "metadata": {},
   "outputs": [
    {
     "name": "stdout",
     "output_type": "stream",
     "text": [
      "True\n",
      "False\n",
      "False\n"
     ]
    }
   ],
   "source": [
    "# test case\n",
    "\n",
    "print(ipv4_addr_check(\"120.112.112.110\"))  # 输出结果为True\n",
    "print(ipv4_addr_check(\"172.31.137.256\"))   # 输出结果为False\n",
    "print(ipv4_addr_check(\"289.31.137.256\"))   # 输出结果为False"
   ]
  },
  {
   "cell_type": "code",
   "execution_count": 27,
   "metadata": {},
   "outputs": [],
   "source": [
    "'''\n",
    "unittest是xUnit系列框架中的一员.\n",
    "使用unittest框架进行测试.\n",
    "'''\n",
    "import unittest\n",
    "\n",
    "class TestStringMethods(unittest.TestCase):\n",
    "\n",
    "    def test_True(self):\n",
    "        self.assertTrue(ipv4_addr_check(\"120.112.2.1110\"))\n",
    "        self.assertTrue(ipv4_addr_check(\"128.12.112.100\"))\n",
    "    def test_False(self):\n",
    "        self.assertFalse(ipv4_addr_check(\"172.31.137.256\"))\n",
    "        self.assertFalse(ipv4_addr_check(\"172.31.137.256\"))\n",
    "    "
   ]
  },
  {
   "cell_type": "code",
   "execution_count": 28,
   "metadata": {},
   "outputs": [
    {
     "name": "stderr",
     "output_type": "stream",
     "text": [
      "test_False (__main__.TestStringMethods) ... ok\n",
      "test_True (__main__.TestStringMethods) ... FAIL\n",
      "\n",
      "======================================================================\n",
      "FAIL: test_True (__main__.TestStringMethods)\n",
      "----------------------------------------------------------------------\n",
      "Traceback (most recent call last):\n",
      "  File \"<ipython-input-27-e2c5824f1f9f>\", line 10, in test_True\n",
      "    self.assertTrue(ipv4_addr_check(\"120.112.2.1110\"))\n",
      "AssertionError: False is not true\n",
      "\n",
      "----------------------------------------------------------------------\n",
      "Ran 2 tests in 0.009s\n",
      "\n",
      "FAILED (failures=1)\n"
     ]
    },
    {
     "data": {
      "text/plain": [
       "<unittest.runner.TextTestResult run=2 errors=0 failures=1>"
      ]
     },
     "execution_count": 28,
     "metadata": {},
     "output_type": "execute_result"
    }
   ],
   "source": [
    "suite = unittest.TestLoader().loadTestsFromTestCase(TestStringMethods)\n",
    "unittest.TextTestRunner(verbosity=2).run(suite)"
   ]
  },
  {
   "cell_type": "code",
   "execution_count": null,
   "metadata": {},
   "outputs": [],
   "source": []
  }
 ],
 "metadata": {
  "kernelspec": {
   "display_name": "Python 3",
   "language": "python",
   "name": "python3"
  },
  "language_info": {
   "codemirror_mode": {
    "name": "ipython",
    "version": 3
   },
   "file_extension": ".py",
   "mimetype": "text/x-python",
   "name": "python",
   "nbconvert_exporter": "python",
   "pygments_lexer": "ipython3",
   "version": "3.6.4"
  }
 },
 "nbformat": 4,
 "nbformat_minor": 2
}
